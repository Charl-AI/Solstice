{
 "cells": [
  {
   "cell_type": "markdown",
   "metadata": {},
   "source": [
    "# From Flax to Solstice"
   ]
  },
  {
   "cell_type": "markdown",
   "metadata": {},
   "source": [
    "Flax is one of the most popular JAX libraries and even provides some useful data structures such as `flax.training.TrainState` which can be used to help manage experiments. You might therefore be wondering why Solstice is necessary. Here, we demonstrate how a Flax research project might end up evolving into its own mini-framework (or just a convoluted mess), and how Solstice provides clarity and simplicity."
   ]
  },
  {
   "cell_type": "code",
   "execution_count": null,
   "metadata": {
    "vscode": {
     "languageId": "plaintext"
    }
   },
   "outputs": [],
   "source": []
  },
  {
   "cell_type": "markdown",
   "metadata": {},
   "source": []
  }
 ],
 "metadata": {
  "language_info": {
   "name": "python"
  },
  "orig_nbformat": 4
 },
 "nbformat": 4,
 "nbformat_minor": 2
}
