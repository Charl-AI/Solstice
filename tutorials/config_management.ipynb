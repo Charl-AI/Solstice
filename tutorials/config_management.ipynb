{
 "cells": [
  {
   "cell_type": "markdown",
   "metadata": {},
   "source": [
    "# Config Management"
   ]
  },
  {
   "cell_type": "markdown",
   "metadata": {},
   "source": [
    "Solstice does not include config management functions, nor does it offer an opinion on how to do it. However, we believe that it is an important area of experiment design, so we offer a quick (opinionated) guide for managing configs with Solstice and Hydra."
   ]
  },
  {
   "cell_type": "markdown",
   "metadata": {},
   "source": [
    "## The problem\n",
    "\n",
    "Ideally, all experiments would be fully configurable through command line or config files, without changing much (if any) code. This can be tricky to acheieve - you know you have failed when your `main.py` or `train.py` file looks something like this:\n",
    "\n",
    "```python\n",
    "\n",
    "def main(config):\n",
    "    if config.dataset_name == \"mnist\":\n",
    "        train_ds, val_ds, test_ds = get_mnist_data(config.dataset_batch_size)\n",
    "\n",
    "        if config.model_name == \"resnet\":\n",
    "            raise ValueError(f\"resnet implementation does not work with mnist\")\n",
    "        elif config.model_name == \"mlp\":\n",
    "            model = get_mlp(28*28, config.mlp_model_depth, config.mlp_model_width)\n",
    "\n",
    "    elif config.dataset_name == \"cifar\":\n",
    "        train_ds, val_ds, test_ds = get_cifar_data(config.dataset_batch_size, config.dataset_split)\n",
    "\n",
    "        if config.model_name == \"resnet\":\n",
    "            model = get_resnet(28*28, config.resnet_type)\n",
    "        elif config.model_name == \"mlp\":\n",
    "            model = get_mlp(28*28, config.mlp_model_depth, config.mlp_model_width)\n",
    "\n",
    "    else:\n",
    "        raise ValueError(f\"Dataset not supported {config.dataset_name=}\")\n",
    "\n",
    "    optimizer = optax.adam(config.lr)\n",
    "\n",
    "    ...\n",
    "\n",
    "\n",
    "```\n",
    "\n",
    "Yuck! You can see that there are loads of components that would be fine on their own, but end up getting glued together by some horrible convoluted logic in the main file. Each time you want to add functionality you will have to add a bunch more if statements - the whole thing is a combinatoric nightmare! You also have the problem that different config options want to be configured differently, for example the resnet needs to know different things to the mlp. This means you end up passing everything into your program and ignoring half of it, which is incredible error prone. We show how Solstice+Hydra fixes this."
   ]
  },
  {
   "cell_type": "markdown",
   "metadata": {},
   "source": []
  }
 ],
 "metadata": {
  "interpreter": {
   "hash": "23393d2575091a37cff0d0e9e7479591a295495b26c3b2ebf9b64da572e02d85"
  },
  "kernelspec": {
   "display_name": "Python 3.8.10 ('venv')",
   "language": "python",
   "name": "python3"
  },
  "language_info": {
   "name": "python",
   "version": "3.9.5"
  },
  "orig_nbformat": 4
 },
 "nbformat": 4,
 "nbformat_minor": 2
}
