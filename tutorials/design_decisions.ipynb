{
 "cells": [
  {
   "cell_type": "markdown",
   "metadata": {},
   "source": [
    "# Design Decisions"
   ]
  },
  {
   "cell_type": "markdown",
   "metadata": {},
   "source": [
    "Here, we write about why we made the decisions we did when designing Solstice. "
   ]
  },
  {
   "cell_type": "markdown",
   "metadata": {},
   "source": [
    "## The problem\n",
    "\n",
    "In machine learning projects, you generally have at least four main parts of your code:\n",
    "\n",
    "- model\n",
    "- dataset\n",
    "- training strategy (i.e. optimization, train/eval step logic, metrics calculation)\n",
    "- training/testing loops (including logging, checkpointing etc...)\n",
    "\n",
    "In many research projects, it is helpful to be able to swap out any of these parts on a whim (ideally, just by changing your config files). In practice, it follows that **the better you can decouple these four parts of your code, the faster you can iterate your experiments.** \n",
    "\n",
    "Much attention is paid to the four components individually, but many researchers then just throw everything together haphazardly. It can require quite a significant engineering effort to properly decouple all the components, so most people don't bother. Wouldn't it be great if there was a standard way of organising your code to rapidly scale and iterate experiments...\n",
    "\n",
    "PyTorch Lightning has filled this niche for PyTorch, but there are still few options when doing research in JAX."
   ]
  },
  {
   "cell_type": "markdown",
   "metadata": {},
   "source": [
    "## A key idea"
   ]
  },
  {
   "cell_type": "markdown",
   "metadata": {},
   "source": [
    "In object-oriented code, classes encapsulate both state and transformations on that state. Crucially, the state is mutable, so calling a method might return nothing but alter the object's state. This is a *side effect*. In functional programming, side effects are avoided by making state immutable, so instead of calling a method to update an object's state, you could pass the object to a pure function, returning a new object with the altered state. This is generally an easier paradigm to reason about and immutability is also needed in JAX for XLA to work its magic. \n",
    "\n",
    "This is all great, but Python is not really designed for the functional paradigm so it is difficult to fully decouple all the parts of your code. Type hinting functions with `Protocols` can get you surprisingly far, but at some point you will probably want to achieve some level of encapsulation and use abstract base classes to get dependency inversion.\n",
    "\n",
    "The approach we take in Solstice is to use immutable dataclasses to try to get the best of both worlds, the code below shows how you would implement a simple counter in each of the paradigms."
   ]
  },
  {
   "cell_type": "code",
   "execution_count": 6,
   "metadata": {},
   "outputs": [
    {
     "name": "stdout",
     "output_type": "stream",
     "text": [
      "oop_counter.count=0, object id: 140693673590944\n",
      "after incrementing oop_counter.count=1, object id: 140693673590944\n",
      "functional_count=0, object id: 140693771819280\n",
      "after incrementing functional_count=1, object id: 140693771819312\n",
      "solstice_style_counter.count=0, object id: 140693699787456\n",
      "after incrementing solstice_style_counter.count=1, object id: 140693699786064\n"
     ]
    }
   ],
   "source": [
    "class OOPCounter:\n",
    "    def __init__(self, initial_value: int = 0) -> None:\n",
    "        self.count = initial_value\n",
    "    \n",
    "    def increment(self) -> None:\n",
    "        self.count += 1\n",
    "\n",
    "# 'initialise' the OO counter \n",
    "oop_counter = OOPCounter()\n",
    "print(f\"{oop_counter.count=}, object id: {id(oop_counter)}\")\n",
    "\n",
    "# 'apply' the increment method, updating the counter object's internal state\n",
    "oop_counter.increment()\n",
    "print(f\"after incrementing {oop_counter.count=}, object id: {id(oop_counter)}\")\n",
    "\n",
    "###############################################################################\n",
    "\n",
    "def functional_increment(current_value: int) -> int:\n",
    "    return current_value + 1\n",
    "\n",
    "# 'initialise' the functional counter\n",
    "functional_count = 0\n",
    "print(f\"{functional_count=}, object id: {id(functional_count)}\")\n",
    "\n",
    "# 'apply' the functional increment method, returning a new state object\n",
    "functional_count = functional_increment(functional_count)\n",
    "print(f\"after incrementing {functional_count=}, object id: {id(functional_count)}\")\n",
    "\n",
    "###############################################################################\n",
    "\n",
    "import dataclasses\n",
    "\n",
    "@dataclasses.dataclass(frozen=True)\n",
    "class SolsticeStyleCounter:\n",
    "    count: int = 0\n",
    "\n",
    "    def increment(self) -> \"SolsticeStyleCounter\":\n",
    "        return dataclasses.replace(self, count=self.count + 1)\n",
    "\n",
    "# 'initialise' the SolsticeStyleCounter\n",
    "solstice_style_counter = SolsticeStyleCounter()\n",
    "print(f\"{solstice_style_counter.count=}, object id: {id(solstice_style_counter)}\")\n",
    "\n",
    "# 'apply' the increment method, returning a new state object\n",
    "solstice_style_counter = solstice_style_counter.increment()\n",
    "print(f\"after incrementing {solstice_style_counter.count=}, object id: {id(solstice_style_counter)}\")\n",
    "\n"
   ]
  },
  {
   "cell_type": "markdown",
   "metadata": {},
   "source": [
    "Notice that the Solstice style counter did not mutate its state, it returned a new instance of itself. In practice, in machine learning, this means we can replace the common init/apply pure functions with methods in a frozen dataclass (usually `__init__()`, and `__call__()`). There is one final matter to take care of... JAX only operates on PyTrees and doesn't know how to deal with dataclasses. This is why we build Solstice on top of Equinox, because an `equinox.Module` is just a dataclass which is registered as a PyTree."
   ]
  },
  {
   "cell_type": "markdown",
   "metadata": {},
   "source": [
    "## Why these 4 abstractions?"
   ]
  },
  {
   "cell_type": "markdown",
   "metadata": {},
   "source": [
    "TODO"
   ]
  }
 ],
 "metadata": {
  "interpreter": {
   "hash": "23393d2575091a37cff0d0e9e7479591a295495b26c3b2ebf9b64da572e02d85"
  },
  "kernelspec": {
   "display_name": "Python 3.8.10 ('venv')",
   "language": "python",
   "name": "python3"
  },
  "language_info": {
   "codemirror_mode": {
    "name": "ipython",
    "version": 3
   },
   "file_extension": ".py",
   "mimetype": "text/x-python",
   "name": "python",
   "nbconvert_exporter": "python",
   "pygments_lexer": "ipython3",
   "version": "3.9.5"
  },
  "orig_nbformat": 4
 },
 "nbformat": 4,
 "nbformat_minor": 2
}
